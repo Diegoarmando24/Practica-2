{
  "nbformat": 4,
  "nbformat_minor": 0,
  "metadata": {
    "colab": {
      "provenance": [],
      "authorship_tag": "ABX9TyPUbRRL+UUiWmYP76ACXXWJ",
      "include_colab_link": true
    },
    "kernelspec": {
      "name": "python3",
      "display_name": "Python 3"
    },
    "language_info": {
      "name": "python"
    }
  },
  "cells": [
    {
      "cell_type": "markdown",
      "metadata": {
        "id": "view-in-github",
        "colab_type": "text"
      },
      "source": [
        "<a href=\"https://colab.research.google.com/github/Diegoarmando24/Practica-2/blob/main/Ejercicio25.ipynb\" target=\"_parent\"><img src=\"https://colab.research.google.com/assets/colab-badge.svg\" alt=\"Open In Colab\"/></a>"
      ]
    },
    {
      "cell_type": "markdown",
      "source": [
        "Factorización de *Cholesky*"
      ],
      "metadata": {
        "id": "1XrCgmXjDeYo"
      }
    },
    {
      "cell_type": "code",
      "source": [
        "import numpy as np"
      ],
      "metadata": {
        "id": "pWb3C_ivoYNm"
      },
      "execution_count": 71,
      "outputs": []
    },
    {
      "cell_type": "code",
      "source": [
        "# (b) A = LDL^t , donde L es triangular inferior y D es diagonal.\n",
        "\n",
        "# Función que realiza la factorización LU de una matriz A\n",
        "# Devuelve L (triangular inferior con unos en la diagonal) y U (triangular superior)\n",
        "def LU(A):\n",
        "  U = np.copy(A)             # Copiamos A para no modificar la original\n",
        "  L = np.eye(A.shape[0])     # Inicializamos L como matriz identidad\n",
        "\n",
        "  for i in range(A.shape[0]):\n",
        "    Li = np.eye(A.shape[0])  # Matriz elemental de eliminación\n",
        "    for j in range(i+1, A.shape[0]):\n",
        "      Li[j, i] = -U[j, i] / U[i, i]  # Pivoteo para anular elemento debajo del pivote\n",
        "      L[j, i] = U[j, i] / U[i, i]    # Se guarda el multiplicador en L\n",
        "    U = MultMat(Li, U)       # Se aplica la eliminación gaussiana\n",
        "  return L, U                # Retorna las matrices L y U\n",
        "\n",
        "# Función que extrae la parte diagonal de una matriz (el resto se pone en cero)\n",
        "def Diag(mat):\n",
        "  for i in range(mat.shape[0]):\n",
        "    for j in range(mat.shape[1]):\n",
        "      if i != j:\n",
        "        mat[i, j] = 0        # Se eliminan los elementos fuera de la diagonal\n",
        "  return mat                 # Se devuelve la matriz diagonal\n",
        "\n",
        "# Función que calcula la transpuesta de una matriz de forma manual (sin np.T)\n",
        "def Transpuesta(matriz):\n",
        "    copia = np.copy(matriz) # Se trabaja con una copia para no modificar la original\n",
        "    for ren in range(copia.shape[0]):\n",
        "        for col in range(copia.shape[1]):\n",
        "            if ren < col:\n",
        "                # Intercambia simétricamente para obtener la transpuesta\n",
        "                copia[ren, col], copia[col, ren] = copia[col, ren], copia[ren, col]\n",
        "    return copia\n",
        "\n",
        "# Función que implementa la factorización de Cholesky en forma A = LDL^t\n",
        "def FactorizacionCholeskyB(matriz):\n",
        "    L, U = LU(np.copy(matriz)) # Se obtiene la factorización LU\n",
        "    D = Diag(U)                # Extraemos la matriz diagonal de U\n",
        "    LTrans = Transpuesta(L)   # Obtenemos la transpuesta de L\n",
        "    return L, D, LTrans       # Retornamos L, D y L^t"
      ],
      "metadata": {
        "id": "YOvS4pcduh2L"
      },
      "execution_count": 67,
      "outputs": []
    },
    {
      "cell_type": "code",
      "source": [
        "\n",
        "# Matriz de prueba (simétrica y definida positiva)\n",
        "matriz = np.array([[4.0, 2.0, 2.0],\n",
        "                   [2.0, 10.0, 4.0],\n",
        "                   [2.0, 4.0, 6.0]])\n",
        "\n",
        "# Se imprime la descomposición A = LDL^t\n",
        "print(\"La matriz L es:\\n\", FactorizacionCholeskyB(matriz)[0])\n",
        "print(\"La matriz D es:\\n\", FactorizacionCholeskyB(matriz)[1])\n",
        "print(\"La matriz L^t es:\\n\", FactorizacionCholeskyB(matriz)[2])\n",
        "print(\"La multiplicación LDL^t es:\\n\", FactorizacionCholeskyB(matriz)[0] @ FactorizacionCholeskyB(matriz)[1] @ FactorizacionCholeskyB(matriz)[2], \" = A\")\n"
      ],
      "metadata": {
        "colab": {
          "base_uri": "https://localhost:8080/"
        },
        "id": "bY1APETouqso",
        "outputId": "252ca5eb-1e25-4cd7-ee39-f6479c6bf9a5"
      },
      "execution_count": 68,
      "outputs": [
        {
          "output_type": "stream",
          "name": "stdout",
          "text": [
            "La matriz L es:\n",
            " [[1.         0.         0.        ]\n",
            " [0.5        1.         0.        ]\n",
            " [0.5        0.33333333 1.        ]]\n",
            "La matriz D es:\n",
            " [[4. 0. 0.]\n",
            " [0. 9. 0.]\n",
            " [0. 0. 4.]]\n",
            "La matriz L^t es:\n",
            " [[1.         0.5        0.5       ]\n",
            " [0.         1.         0.33333333]\n",
            " [0.         0.         1.        ]]\n",
            "La multiplicación LDL^t es:\n",
            " [[ 4.  2.  2.]\n",
            " [ 2. 10.  4.]\n",
            " [ 2.  4.  6.]]  = A\n"
          ]
        }
      ]
    },
    {
      "cell_type": "code",
      "source": [
        "\n",
        "# (a) A = LL^t, usando L * D^(1/2) * D^(1/2) * L^t\n",
        "\n",
        "# Función que multiplica dos matrices manualmente (sin usar np.dot o el operador @)\n",
        "def MultMat(Mat1, Mat2):\n",
        "    Mat3 = np.zeros((Mat1.shape[0], Mat2.shape[1]))  # Inicializa la matriz resultado\n",
        "\n",
        "    for row in range(Mat1.shape[0]):\n",
        "        for col in range(Mat2.shape[1]):\n",
        "            for aux in range(Mat2.shape[0]):\n",
        "                Mat3[row, col] += Mat1[row, aux] * Mat2[aux, col]  # Producto punto\n",
        "    return Mat3\n",
        "\n",
        "# Función que convierte la factorización A = LDL^t a A = LL^t\n",
        "# usando L * D^(1/2) y D^(1/2) * L^t\n",
        "def FactorizacionCholeskyA(matriz):\n",
        "    L, D, Ltrans = FactorizacionCholeskyB(np.copy(matriz))  # Se obtiene LDL^t\n",
        "\n",
        "    # Se saca raíz cuadrada a los elementos de la diagonal de D\n",
        "    for i in range(D.shape[0]):\n",
        "        D[i, i] = np.sqrt(D[i, i])\n",
        "\n",
        "    # Se forman L' = L D^(1/2) y L'^t = D^(1/2) L^t\n",
        "    LPrim = MultMat(L, D)\n",
        "    LPrimT = MultMat(D, Ltrans)\n",
        "\n",
        "    return LPrim, LPrimT     # Retorna L' y L'^t\n"
      ],
      "metadata": {
        "id": "X9wjXozUuyWf"
      },
      "execution_count": 69,
      "outputs": []
    },
    {
      "cell_type": "code",
      "source": [
        "\n",
        "# Matriz de prueba (igual que antes)\n",
        "matriz = np.array([[4.0, 2.0, 2.0],\n",
        "                   [2.0, 10.0, 4.0],\n",
        "                   [2.0, 4.0, 6.0]])\n",
        "\n",
        "# Se imprime la descomposición A = LL^t\n",
        "print(\"La matriz L' es:\\n\", FactorizacionCholeskyA(matriz)[0])\n",
        "print(\"La matriz L'^t es:\\n\", FactorizacionCholeskyA(matriz)[1])\n",
        "print(\"La multiplicación LL^t es:\\n\", FactorizacionCholeskyA(matriz)[0] @ FactorizacionCholeskyA(matriz)[1], \" = A\")\n"
      ],
      "metadata": {
        "colab": {
          "base_uri": "https://localhost:8080/"
        },
        "id": "3VXYfwePu0oA",
        "outputId": "62a899f7-c746-430d-86ac-357dc6542153"
      },
      "execution_count": 70,
      "outputs": [
        {
          "output_type": "stream",
          "name": "stdout",
          "text": [
            "La matriz L' es:\n",
            " [[2. 0. 0.]\n",
            " [1. 3. 0.]\n",
            " [1. 1. 2.]]\n",
            "La matriz L'^t es:\n",
            " [[2. 1. 1.]\n",
            " [0. 3. 1.]\n",
            " [0. 0. 2.]]\n",
            "La multiplicación LL^t es:\n",
            " [[ 4.  2.  2.]\n",
            " [ 2. 10.  4.]\n",
            " [ 2.  4.  6.]]  = A\n"
          ]
        }
      ]
    }
  ]
}