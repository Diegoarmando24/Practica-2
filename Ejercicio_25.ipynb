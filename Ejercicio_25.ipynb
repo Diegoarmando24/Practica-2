{
  "nbformat": 4,
  "nbformat_minor": 0,
  "metadata": {
    "colab": {
      "provenance": [],
      "authorship_tag": "ABX9TyPi3rMD1N727jbhXN436Tqg",
      "include_colab_link": true
    },
    "kernelspec": {
      "name": "python3",
      "display_name": "Python 3"
    },
    "language_info": {
      "name": "python"
    }
  },
  "cells": [
    {
      "cell_type": "markdown",
      "metadata": {
        "id": "view-in-github",
        "colab_type": "text"
      },
      "source": [
        "<a href=\"https://colab.research.google.com/github/Diegoarmando24/Practica-2/blob/main/Ejercicio_25.ipynb\" target=\"_parent\"><img src=\"https://colab.research.google.com/assets/colab-badge.svg\" alt=\"Open In Colab\"/></a>"
      ]
    },
    {
      "cell_type": "code",
      "execution_count": 1,
      "metadata": {
        "id": "E4V3aL8UVze9",
        "outputId": "00391a1d-7580-472b-b745-dbc9f4833837",
        "colab": {
          "base_uri": "https://localhost:8080/"
        }
      },
      "outputs": [
        {
          "output_type": "stream",
          "name": "stdout",
          "text": [
            "L (Cholesky clásica):\n",
            " [[2.         0.        ]\n",
            " [1.         1.41421356]]\n",
            "Reconstrucción A (LL^T):\n",
            " [[4. 2.]\n",
            " [2. 3.]]\n",
            "\n",
            "L_gorrito (modificada):\n",
            " [[1.  0. ]\n",
            " [0.5 1. ]]\n",
            "D_gorrito (diagonal):\n",
            " [[4. 0.]\n",
            " [0. 2.]]\n",
            "Reconstrucción A (L_gorrito * D_gorrito * L_gorrito^T):\n",
            " [[4. 2.]\n",
            " [2. 3.]]\n"
          ]
        }
      ],
      "source": [
        "# Ejercicio 25 - Factorización de Cholesky clásica y modificada\n",
        "import numpy as np\n",
        "\n",
        "# ==========================================\n",
        "# FACTORIZACIÓN DE CHOLESKY CLÁSICA\n",
        "# ==========================================\n",
        "\n",
        "def Cholesky(A):\n",
        "    \"\"\"\n",
        "    Realiza la factorización de Cholesky clásica: A = L · Lᵗ\n",
        "    donde A es una matriz simétrica definida positiva.\n",
        "\n",
        "    Retorna:\n",
        "        L : matriz triangular inferior tal que A = LLᵗ\n",
        "    \"\"\"\n",
        "    n = A.shape[0]\n",
        "    L = np.zeros_like(A)\n",
        "\n",
        "    for i in range(n):\n",
        "        for j in range(i + 1):\n",
        "            suma = 0.0\n",
        "            # Suma acumulada de productos L[i][k] * L[j][k] hasta k = j - 1\n",
        "            for k in range(j):\n",
        "                suma += L[i][k] * L[j][k]\n",
        "\n",
        "            if i == j:\n",
        "                # Diagonal: sqrt(a_ii - sumatorio)\n",
        "                L[i][j] = (A[i][i] - suma) ** 0.5\n",
        "            else:\n",
        "                # Fuera de la diagonal\n",
        "                L[i][j] = (A[i][j] - suma) / L[j][j]\n",
        "\n",
        "    return L\n",
        "\n",
        "# ==========================================\n",
        "# FACTORIZACIÓN DE CHOLESKY MODIFICADA\n",
        "# ==========================================\n",
        "\n",
        "def Cholesky_Modificada(A):\n",
        "    \"\"\"\n",
        "    Realiza la factorización de Cholesky modificada: A = L̂ · D̂ · L̂ᵗ\n",
        "\n",
        "    Donde:\n",
        "        L̂ : matriz triangular inferior con 1's en la diagonal\n",
        "        D̂ : matriz diagonal\n",
        "\n",
        "    Retorna:\n",
        "        L_hat : matriz L̂\n",
        "        D_mat : matriz diagonal D̂\n",
        "    \"\"\"\n",
        "    n = A.shape[0]\n",
        "    L_hat = np.zeros_like(A)\n",
        "    D_hat = np.zeros(n)\n",
        "\n",
        "    for i in range(n):\n",
        "        for j in range(i):\n",
        "            suma = 0.0\n",
        "            # Suma acumulada de productos L̂[i][k] * D̂[k] * L̂[j][k]\n",
        "            for k in range(j):\n",
        "                suma += L_hat[i][k] * D_hat[k] * L_hat[j][k]\n",
        "            L_hat[i][j] = (A[i][j] - suma) / D_hat[j]\n",
        "\n",
        "        # Cálculo del valor diagonal D̂[i]\n",
        "        suma = 0.0\n",
        "        for k in range(i):\n",
        "            suma += (L_hat[i][k] ** 2) * D_hat[k]\n",
        "        D_hat[i] = A[i][i] - suma\n",
        "\n",
        "        # Por construcción, la diagonal de L̂ es 1\n",
        "        L_hat[i][i] = 1.0\n",
        "\n",
        "    D_mat = np.diag(D_hat)  # Se convierte el vector D̂ en matriz diagonal\n",
        "    return L_hat, D_mat\n",
        "\n",
        "# ==========================================\n",
        "# PRUEBA CON MATRIZ A\n",
        "# ==========================================\n",
        "\n",
        "# Matriz simétrica definida positiva\n",
        "A = np.array([[4.0, 2.0],\n",
        "              [2.0, 3.0]])\n",
        "\n",
        "# ----------------- Cholesky clásica -----------------\n",
        "L = Cholesky(A)\n",
        "print(\"L (Cholesky clásica):\\n\", L)\n",
        "print(\"Reconstrucción A (LL^T):\\n\", L @ L.T)\n",
        "\n",
        "# ----------------- Cholesky modificada -----------------\n",
        "Lh, Dh = Cholesky_Modificada(A)\n",
        "print(\"\\nL_gorrito (modificada):\\n\", Lh)\n",
        "print(\"D_gorrito (diagonal):\\n\", Dh)\n",
        "print(\"Reconstrucción A (L_gorrito * D_gorrito * L_gorrito^T):\\n\", Lh @ Dh @ Lh.T)\n",
        "\n"
      ]
    }
  ]
}